{
  "nbformat": 4,
  "nbformat_minor": 0,
  "metadata": {
    "colab": {
      "provenance": []
    },
    "kernelspec": {
      "name": "python3",
      "display_name": "Python 3"
    },
    "language_info": {
      "name": "python"
    }
  },
  "cells": [
    {
      "cell_type": "markdown",
      "source": [
        "Comando geral, bibliotecas usadas nos exercícios abaixo."
      ],
      "metadata": {
        "id": "U0O_gZvh6J6H"
      }
    },
    {
      "cell_type": "code",
      "execution_count": null,
      "metadata": {
        "id": "0iOkJNEwy3Lh"
      },
      "outputs": [],
      "source": [
        "!pip install pandas numpy matplotlib"
      ]
    },
    {
      "cell_type": "markdown",
      "source": [
        "Exercício 8\n"
      ],
      "metadata": {
        "id": "xyS4i_1B8Lao"
      }
    },
    {
      "cell_type": "code",
      "source": [
        "!pip install kaggle # Baixar API Kaggle\n",
        "\n",
        "# Upload do arquivo kaggle.json\n",
        "from google.colab import files\n",
        "files.upload()\n",
        "\n",
        "# Mover o arquivo kaggle.json para o diretório correto\n",
        "!mkdir -p ~/.kaggle\n",
        "!cp kaggle.json ~/.kaggle/\n",
        "\n",
        "# Dar permissões corretas ao arquivo kaggle.json\n",
        "!chmod 600 ~/.kaggle/kaggle.json\n",
        "\n",
        "# Baixar o conjunto de dados do Kaggle\n",
        "!kaggle datasets download -d yasserh/breast-cancer-dataset\n",
        "\n",
        "# O arquivo veio compactado, logo será necessário descompactá-lo.\n",
        "\n",
        "!ls\n",
        "\n",
        "# Importar o módulo zipfile\n",
        "import zipfile\n",
        "\n",
        "# Especificar o nome do arquivo zip\n",
        "file_name = \"breast-cancer-dataset.zip\"  # substitua pelo nome do arquivo baixado\n",
        "\n",
        "# Descompactar o arquivo\n",
        "with zipfile.ZipFile(file_name, 'r') as zip_ref:\n",
        "    zip_ref.extractall()\n",
        "\n",
        "# Listar arquivos descompactados\n",
        "!ls\n",
        "\n",
        "import matplotlib.pyplot as plt\n",
        "import pandas as pd\n",
        "\n",
        "# Importando o arquivo Breast Cancer Dataset.\n",
        "df = pd.read_csv('breast-cancer.csv')\n",
        "\n",
        "area_filtrado = df[df['area_mean'] > 1200]\n",
        "print(area_filtrado)\n",
        "\n",
        "categorie_filter = df[df['diagnosis'] == 'B']\n",
        "print(categorie_filter)\n",
        "\n",
        "categoria_B = df[df['diagnosis'] == 'B']\n",
        "categoria_M = df[df['diagnosis'] == 'M']\n",
        "\n",
        "count_B = categoria_B.shape[0]\n",
        "count_M = categoria_M.shape[0]\n",
        "\n",
        "categories = ['B', 'M']\n",
        "values = [count_B, count_M]\n",
        "\n",
        "plt.figure(figsize=(8, 5))\n",
        "plt.bar(categories, values, color=\"skyblue\")\n",
        "plt.title('Frequência de Diagnósticos B/M')\n",
        "plt.xlabel('Diagnóstico')\n",
        "plt.ylabel('Frequência')\n",
        "plt.show()"
      ],
      "metadata": {
        "id": "ENqTZS7S8Oqr"
      },
      "execution_count": null,
      "outputs": []
    }
  ]
}