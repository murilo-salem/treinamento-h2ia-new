{
  "nbformat": 4,
  "nbformat_minor": 0,
  "metadata": {
    "colab": {
      "provenance": []
    },
    "kernelspec": {
      "name": "python3",
      "display_name": "Python 3"
    },
    "language_info": {
      "name": "python"
    }
  },
  "cells": [
    {
      "cell_type": "markdown",
      "source": [
        "Comando geral, bibliotecas usadas nos exercícios abaixo."
      ],
      "metadata": {
        "id": "U0O_gZvh6J6H"
      }
    },
    {
      "cell_type": "code",
      "execution_count": null,
      "metadata": {
        "id": "0iOkJNEwy3Lh"
      },
      "outputs": [],
      "source": [
        "!pip install pandas numpy matplotlib"
      ]
    },
    {
      "cell_type": "markdown",
      "source": [
        "Exercício 1"
      ],
      "metadata": {
        "id": "tKJVQdROzVcq"
      }
    },
    {
      "cell_type": "code",
      "source": [
        "\"\"\"\n",
        "1. Declare um Array com 50 \"0\", Um Array com 50 \"1\", e Um Array com 50 \"2\". Realiza as quatro operações com esses arrays, e printe os resultados.\n",
        "\n",
        "    Multiplique o terceiro array por 2;\n",
        "    Multiplique o segundo com o terceiro array;\n",
        "    Some os arrays entre si;\n",
        "    Faça a soma total dos valores desses arrays\n",
        "\"\"\"\n",
        "\n",
        "from scipy.stats import mode\n",
        "import numpy as np\n",
        "\n",
        "Array_0 = np.random.randint(0, 100, size=100) # Usei um array de números pseudo-aleatórios de 0 a 100.\n",
        "\n",
        "def Media(X):\n",
        "    print(np.mean(X))\n",
        "\n",
        "def Mediana(X):\n",
        "    print(np.median(X))\n",
        "\n",
        "def Moda(X):\n",
        "    moda_resultado = mode(X)\n",
        "    print(moda_resultado)\n",
        "\n",
        "print(\"Array completo:\", Array_0, \"\\n\")\n",
        "print(\"Media:\")\n",
        "Media(Array_0)\n",
        "print(\"\\nMediana:\")\n",
        "Mediana(Array_0)\n",
        "print(\"\\nModa:\")\n",
        "Moda(Array_0) # Usei scipy, chequei a validade da resposta com CTRL + F no Terminal de resposta."
      ],
      "metadata": {
        "id": "6gSFuDU5zVEy"
      },
      "execution_count": null,
      "outputs": []
    },
    {
      "cell_type": "markdown",
      "source": [
        "Exercício 2"
      ],
      "metadata": {
        "id": "TBEolDVb1PvI"
      }
    },
    {
      "cell_type": "code",
      "source": [
        "\"\"\"\n",
        "Inicie um array com 100 elementos aleatórios, e mostre a média, mediana e moda desse array.\n",
        "\"\"\"\n",
        "\n",
        "from scipy.stats import mode\n",
        "import numpy as np\n",
        "\n",
        "Array_0 = np.random.randint(0, 100, size=100) # Usei um array de números pseudo-aleatórios de 0 a 100.\n",
        "\n",
        "def Media(X):\n",
        "    print(np.mean(X))\n",
        "\n",
        "def Mediana(X):\n",
        "    print(np.median(X))\n",
        "\n",
        "def Moda(X):\n",
        "    moda_resultado = mode(X)\n",
        "    print(moda_resultado)\n",
        "\n",
        "print(\"Array completo:\", Array_0)\n",
        "print(\"\\nMedia:\", )\n",
        "Media(Array_0)\n",
        "print(\"\\nMediana:\")\n",
        "Mediana(Array_0)\n",
        "print(\"\\nModa:\")\n",
        "Moda(Array_0) # Usei scipy, chequei a validade da resposta com CTRL + F no Terminal de resposta.\n"
      ],
      "metadata": {
        "id": "xaJLxMjQ1Jwp"
      },
      "execution_count": null,
      "outputs": []
    },
    {
      "cell_type": "markdown",
      "source": [
        "Exercício 3"
      ],
      "metadata": {
        "id": "WxDsU_pT2wyV"
      }
    },
    {
      "cell_type": "code",
      "source": [
        "import matplotlib.pyplot as plt\n",
        "\n",
        "X = [0, 1, 2, 3, 4, 5, 6, 7, 8, 9, 10]\n",
        "\n",
        "Y = [] # List comprehension for fill array with x*3.\n",
        "for x in X:\n",
        "    Y.append(x**3)\n",
        "\n",
        "plt.figure(figsize=(8,5))\n",
        "plt.bar(X, Y, color=\"skyblue\")\n",
        "plt.title('Gráfico de Crescimento')\n",
        "plt.xlabel('Valores para X')\n",
        "plt.ylabel('Valor de X ** 3')\n",
        "plt.show()"
      ],
      "metadata": {
        "id": "lu0FNJtB2yJR"
      },
      "execution_count": null,
      "outputs": []
    },
    {
      "cell_type": "markdown",
      "source": [
        "Exercício 4"
      ],
      "metadata": {
        "id": "P_ezn1nQ211p"
      }
    },
    {
      "cell_type": "code",
      "source": [
        "import matplotlib.pyplot as plt\n",
        "\n",
        "categorias = ['A', 'B', 'C', 'D', 'E']\n",
        "contagem = [23, 17, 35, 29, 12]\n",
        "\n",
        "plt.figure(figsize=(8,5))\n",
        "plt.bar(categorias, contagem, color=\"skyblue\")\n",
        "plt.title('Gráfico de Crescimento')\n",
        "plt.xlabel('Categorias')\n",
        "plt.ylabel('Contagem')\n",
        "plt.show()"
      ],
      "metadata": {
        "id": "G88pH-YR2221"
      },
      "execution_count": null,
      "outputs": []
    },
    {
      "cell_type": "markdown",
      "source": [
        "Exercício 5"
      ],
      "metadata": {
        "id": "W5N1qRtl25N4"
      }
    },
    {
      "cell_type": "code",
      "source": [
        "!pip install kaggle # Baixar API Kaggle\n",
        "\n",
        "# Upload do arquivo kaggle.json\n",
        "from google.colab import files\n",
        "files.upload()\n",
        "\n",
        "# Mover o arquivo kaggle.json para o diretório correto\n",
        "!mkdir -p ~/.kaggle\n",
        "!cp kaggle.json ~/.kaggle/\n",
        "\n",
        "# Dar permissões corretas ao arquivo kaggle.json\n",
        "!chmod 600 ~/.kaggle/kaggle.json\n",
        "\n",
        "# Baixar o conjunto de dados do Kaggle\n",
        "!kaggle datasets download -d dataanalyst001/world-population-by-country-2024\n",
        "\n",
        "# O arquivo veio compactado, logo será necessário descompactá-lo.\n",
        "\n",
        "!ls\n",
        "\n",
        "# Importar o módulo zipfile\n",
        "import zipfile\n",
        "\n",
        "# Especificar o nome do arquivo zip\n",
        "file_name = \"world-population-by-country-2024.zip\"  # substitua pelo nome do arquivo baixado\n",
        "\n",
        "# Descompactar o arquivo\n",
        "with zipfile.ZipFile(file_name, 'r') as zip_ref:\n",
        "    zip_ref.extractall()\n",
        "\n",
        "# Listar arquivos descompactados\n",
        "!ls\n",
        "\n",
        "import pandas as pd\n",
        "import numpy as np\n",
        "\n",
        "# https://www.kaggle.com/datasets/dataanalyst001/world-population-by-country-2024\n",
        "# world-population-by-country-2024 renamed to \"WPC\"\n",
        "\n",
        "dataframe = pd.read_csv('/content/world-population-by-country-2024.zip')\n",
        "\n",
        "testando_tail = dataframe.tail()\n",
        "print(\"TaiL: \\n\", testando_tail)\n",
        "\n",
        "testando_head = dataframe.head()\n",
        "print(\"Head: \\n\", testando_head)\n",
        "\n",
        "testando_describe = dataframe.describe()\n",
        "print(\"Describe: \\n\", testando_describe)\n",
        "\n",
        "# Selecionando uma coluna numérica e fazendo a média.\n",
        "# Neste caso a coluna 'Population 2024'.\n",
        "Media_Coluna = dataframe['Population 2024'].mean()\n",
        "print(\"Media da populaçao por pais:\", Media_Coluna)"
      ],
      "metadata": {
        "id": "Tf5LVHze27Sq"
      },
      "execution_count": null,
      "outputs": []
    }
  ]
}